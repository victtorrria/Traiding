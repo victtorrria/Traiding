{
  "nbformat": 4,
  "nbformat_minor": 0,
  "metadata": {
    "colab": {
      "name": "portfolio_optimization_2_assets.ipynb",
      "provenance": [],
      "authorship_tag": "ABX9TyMEhEWx4ZsDKOMK9LYjHu26",
      "include_colab_link": true
    },
    "kernelspec": {
      "name": "python3",
      "display_name": "Python 3"
    },
    "language_info": {
      "name": "python"
    }
  },
  "cells": [
    {
      "cell_type": "markdown",
      "metadata": {
        "id": "view-in-github",
        "colab_type": "text"
      },
      "source": [
        "<a href=\"https://colab.research.google.com/github/victtorrria/Traiding/blob/main/portfolio_optimization_2_assets.ipynb\" target=\"_parent\"><img src=\"https://colab.research.google.com/assets/colab-badge.svg\" alt=\"Open In Colab\"/></a>"
      ]
    },
    {
      "cell_type": "code",
      "execution_count": 54,
      "metadata": {
        "id": "ymmQYE4KFAfQ"
      },
      "outputs": [],
      "source": [
        "import yfinance as yf\n",
        "import datetime as dt\n",
        "import pandas as pd\n",
        "import numpy as np"
      ]
    },
    {
      "cell_type": "code",
      "source": [
        "symbols = ['GOOG', 'CAT']\n",
        "df = yf.download(symbols, start='2005-01-01', end='2015-01-01', interval='1mo')['Adj Close'].dropna()"
      ],
      "metadata": {
        "colab": {
          "base_uri": "https://localhost:8080/"
        },
        "id": "6j80Tha4GFJ6",
        "outputId": "2d507273-8aa0-4ea3-e31c-3f9ab448c917"
      },
      "execution_count": 28,
      "outputs": [
        {
          "output_type": "stream",
          "name": "stdout",
          "text": [
            "[*********************100%***********************]  2 of 2 completed\n"
          ]
        }
      ]
    },
    {
      "cell_type": "code",
      "source": [
        "df"
      ],
      "metadata": {
        "colab": {
          "base_uri": "https://localhost:8080/",
          "height": 455
        },
        "id": "tsRWP9qVG7dx",
        "outputId": "5b7ec95f-3226-496c-c160-e168d0e0db94"
      },
      "execution_count": 29,
      "outputs": [
        {
          "output_type": "execute_result",
          "data": {
            "text/html": [
              "\n",
              "  <div id=\"df-e8821d1f-47d7-4897-a895-88589dde898f\">\n",
              "    <div class=\"colab-df-container\">\n",
              "      <div>\n",
              "<style scoped>\n",
              "    .dataframe tbody tr th:only-of-type {\n",
              "        vertical-align: middle;\n",
              "    }\n",
              "\n",
              "    .dataframe tbody tr th {\n",
              "        vertical-align: top;\n",
              "    }\n",
              "\n",
              "    .dataframe thead th {\n",
              "        text-align: right;\n",
              "    }\n",
              "</style>\n",
              "<table border=\"1\" class=\"dataframe\">\n",
              "  <thead>\n",
              "    <tr style=\"text-align: right;\">\n",
              "      <th></th>\n",
              "      <th>CAT</th>\n",
              "      <th>GOOG</th>\n",
              "    </tr>\n",
              "    <tr>\n",
              "      <th>Date</th>\n",
              "      <th></th>\n",
              "      <th></th>\n",
              "    </tr>\n",
              "  </thead>\n",
              "  <tbody>\n",
              "    <tr>\n",
              "      <th>2005-01-01</th>\n",
              "      <td>28.513</td>\n",
              "      <td>97.445</td>\n",
              "    </tr>\n",
              "    <tr>\n",
              "      <th>2005-02-01</th>\n",
              "      <td>30.551</td>\n",
              "      <td>93.644</td>\n",
              "    </tr>\n",
              "    <tr>\n",
              "      <th>2005-03-01</th>\n",
              "      <td>29.391</td>\n",
              "      <td>89.918</td>\n",
              "    </tr>\n",
              "    <tr>\n",
              "      <th>2005-04-01</th>\n",
              "      <td>28.301</td>\n",
              "      <td>109.589</td>\n",
              "    </tr>\n",
              "    <tr>\n",
              "      <th>2005-05-01</th>\n",
              "      <td>30.390</td>\n",
              "      <td>138.117</td>\n",
              "    </tr>\n",
              "    <tr>\n",
              "      <th>...</th>\n",
              "      <td>...</td>\n",
              "      <td>...</td>\n",
              "    </tr>\n",
              "    <tr>\n",
              "      <th>2014-08-01</th>\n",
              "      <td>87.975</td>\n",
              "      <td>570.035</td>\n",
              "    </tr>\n",
              "    <tr>\n",
              "      <th>2014-09-01</th>\n",
              "      <td>79.877</td>\n",
              "      <td>575.779</td>\n",
              "    </tr>\n",
              "    <tr>\n",
              "      <th>2014-10-01</th>\n",
              "      <td>81.797</td>\n",
              "      <td>557.549</td>\n",
              "    </tr>\n",
              "    <tr>\n",
              "      <th>2014-11-01</th>\n",
              "      <td>81.762</td>\n",
              "      <td>540.346</td>\n",
              "    </tr>\n",
              "    <tr>\n",
              "      <th>2014-12-01</th>\n",
              "      <td>74.390</td>\n",
              "      <td>524.959</td>\n",
              "    </tr>\n",
              "  </tbody>\n",
              "</table>\n",
              "<p>120 rows × 2 columns</p>\n",
              "</div>\n",
              "      <button class=\"colab-df-convert\" onclick=\"convertToInteractive('df-e8821d1f-47d7-4897-a895-88589dde898f')\"\n",
              "              title=\"Convert this dataframe to an interactive table.\"\n",
              "              style=\"display:none;\">\n",
              "        \n",
              "  <svg xmlns=\"http://www.w3.org/2000/svg\" height=\"24px\"viewBox=\"0 0 24 24\"\n",
              "       width=\"24px\">\n",
              "    <path d=\"M0 0h24v24H0V0z\" fill=\"none\"/>\n",
              "    <path d=\"M18.56 5.44l.94 2.06.94-2.06 2.06-.94-2.06-.94-.94-2.06-.94 2.06-2.06.94zm-11 1L8.5 8.5l.94-2.06 2.06-.94-2.06-.94L8.5 2.5l-.94 2.06-2.06.94zm10 10l.94 2.06.94-2.06 2.06-.94-2.06-.94-.94-2.06-.94 2.06-2.06.94z\"/><path d=\"M17.41 7.96l-1.37-1.37c-.4-.4-.92-.59-1.43-.59-.52 0-1.04.2-1.43.59L10.3 9.45l-7.72 7.72c-.78.78-.78 2.05 0 2.83L4 21.41c.39.39.9.59 1.41.59.51 0 1.02-.2 1.41-.59l7.78-7.78 2.81-2.81c.8-.78.8-2.07 0-2.86zM5.41 20L4 18.59l7.72-7.72 1.47 1.35L5.41 20z\"/>\n",
              "  </svg>\n",
              "      </button>\n",
              "      \n",
              "  <style>\n",
              "    .colab-df-container {\n",
              "      display:flex;\n",
              "      flex-wrap:wrap;\n",
              "      gap: 12px;\n",
              "    }\n",
              "\n",
              "    .colab-df-convert {\n",
              "      background-color: #E8F0FE;\n",
              "      border: none;\n",
              "      border-radius: 50%;\n",
              "      cursor: pointer;\n",
              "      display: none;\n",
              "      fill: #1967D2;\n",
              "      height: 32px;\n",
              "      padding: 0 0 0 0;\n",
              "      width: 32px;\n",
              "    }\n",
              "\n",
              "    .colab-df-convert:hover {\n",
              "      background-color: #E2EBFA;\n",
              "      box-shadow: 0px 1px 2px rgba(60, 64, 67, 0.3), 0px 1px 3px 1px rgba(60, 64, 67, 0.15);\n",
              "      fill: #174EA6;\n",
              "    }\n",
              "\n",
              "    [theme=dark] .colab-df-convert {\n",
              "      background-color: #3B4455;\n",
              "      fill: #D2E3FC;\n",
              "    }\n",
              "\n",
              "    [theme=dark] .colab-df-convert:hover {\n",
              "      background-color: #434B5C;\n",
              "      box-shadow: 0px 1px 3px 1px rgba(0, 0, 0, 0.15);\n",
              "      filter: drop-shadow(0px 1px 2px rgba(0, 0, 0, 0.3));\n",
              "      fill: #FFFFFF;\n",
              "    }\n",
              "  </style>\n",
              "\n",
              "      <script>\n",
              "        const buttonEl =\n",
              "          document.querySelector('#df-e8821d1f-47d7-4897-a895-88589dde898f button.colab-df-convert');\n",
              "        buttonEl.style.display =\n",
              "          google.colab.kernel.accessAllowed ? 'block' : 'none';\n",
              "\n",
              "        async function convertToInteractive(key) {\n",
              "          const element = document.querySelector('#df-e8821d1f-47d7-4897-a895-88589dde898f');\n",
              "          const dataTable =\n",
              "            await google.colab.kernel.invokeFunction('convertToInteractive',\n",
              "                                                     [key], {});\n",
              "          if (!dataTable) return;\n",
              "\n",
              "          const docLinkHtml = 'Like what you see? Visit the ' +\n",
              "            '<a target=\"_blank\" href=https://colab.research.google.com/notebooks/data_table.ipynb>data table notebook</a>'\n",
              "            + ' to learn more about interactive tables.';\n",
              "          element.innerHTML = '';\n",
              "          dataTable['output_type'] = 'display_data';\n",
              "          await google.colab.output.renderOutput(dataTable, element);\n",
              "          const docLink = document.createElement('div');\n",
              "          docLink.innerHTML = docLinkHtml;\n",
              "          element.appendChild(docLink);\n",
              "        }\n",
              "      </script>\n",
              "    </div>\n",
              "  </div>\n",
              "  "
            ],
            "text/plain": [
              "              CAT    GOOG\n",
              "Date                     \n",
              "2005-01-01 28.513  97.445\n",
              "2005-02-01 30.551  93.644\n",
              "2005-03-01 29.391  89.918\n",
              "2005-04-01 28.301 109.589\n",
              "2005-05-01 30.390 138.117\n",
              "...           ...     ...\n",
              "2014-08-01 87.975 570.035\n",
              "2014-09-01 79.877 575.779\n",
              "2014-10-01 81.797 557.549\n",
              "2014-11-01 81.762 540.346\n",
              "2014-12-01 74.390 524.959\n",
              "\n",
              "[120 rows x 2 columns]"
            ]
          },
          "metadata": {},
          "execution_count": 29
        }
      ]
    },
    {
      "cell_type": "markdown",
      "source": [
        "# **Add return columns**"
      ],
      "metadata": {
        "id": "5VT-dOr2HQRm"
      }
    },
    {
      "cell_type": "code",
      "source": [
        "start_price = 100\n",
        "end_price = 120\n",
        "profit = end_price / start_price - 1\n",
        "profit"
      ],
      "metadata": {
        "colab": {
          "base_uri": "https://localhost:8080/"
        },
        "id": "EuqE64M_HSeo",
        "outputId": "996bcdba-ba5d-4f4b-ede2-d02b0ab8d470"
      },
      "execution_count": 30,
      "outputs": [
        {
          "output_type": "execute_result",
          "data": {
            "text/plain": [
              "0.19999999999999996"
            ]
          },
          "metadata": {},
          "execution_count": 30
        }
      ]
    },
    {
      "cell_type": "code",
      "source": [
        "def add_retun_columns(symbols):\n",
        "  #cxrilshi cifrebis shemokleba/damrgvaleba\n",
        "  pd.options.display.float_format = '{:.3f}'.format\n",
        "  for symbol in symbols:\n",
        "    #start price / end price - 1\n",
        "    df[f'{symbol}_Ret'] = df[symbol] / df[symbol].shift(1) - 1\n"
      ],
      "metadata": {
        "id": "IhInm6LII2Zm"
      },
      "execution_count": 31,
      "outputs": []
    },
    {
      "cell_type": "code",
      "source": [
        "add_retun_columns(symbols)"
      ],
      "metadata": {
        "id": "54qGjQY9JGcP"
      },
      "execution_count": 32,
      "outputs": []
    },
    {
      "cell_type": "code",
      "source": [
        "df.dropna()"
      ],
      "metadata": {
        "colab": {
          "base_uri": "https://localhost:8080/",
          "height": 455
        },
        "id": "c818CXocKHGF",
        "outputId": "6497bd9b-f540-4701-d7f2-0e4972cf5df3"
      },
      "execution_count": 33,
      "outputs": [
        {
          "output_type": "execute_result",
          "data": {
            "text/html": [
              "\n",
              "  <div id=\"df-517e71c7-0f07-4fdf-a141-ddeece47aa3e\">\n",
              "    <div class=\"colab-df-container\">\n",
              "      <div>\n",
              "<style scoped>\n",
              "    .dataframe tbody tr th:only-of-type {\n",
              "        vertical-align: middle;\n",
              "    }\n",
              "\n",
              "    .dataframe tbody tr th {\n",
              "        vertical-align: top;\n",
              "    }\n",
              "\n",
              "    .dataframe thead th {\n",
              "        text-align: right;\n",
              "    }\n",
              "</style>\n",
              "<table border=\"1\" class=\"dataframe\">\n",
              "  <thead>\n",
              "    <tr style=\"text-align: right;\">\n",
              "      <th></th>\n",
              "      <th>CAT</th>\n",
              "      <th>GOOG</th>\n",
              "      <th>GOOG_Ret</th>\n",
              "      <th>CAT_Ret</th>\n",
              "    </tr>\n",
              "    <tr>\n",
              "      <th>Date</th>\n",
              "      <th></th>\n",
              "      <th></th>\n",
              "      <th></th>\n",
              "      <th></th>\n",
              "    </tr>\n",
              "  </thead>\n",
              "  <tbody>\n",
              "    <tr>\n",
              "      <th>2005-02-01</th>\n",
              "      <td>30.551</td>\n",
              "      <td>93.644</td>\n",
              "      <td>-0.039</td>\n",
              "      <td>0.071</td>\n",
              "    </tr>\n",
              "    <tr>\n",
              "      <th>2005-03-01</th>\n",
              "      <td>29.391</td>\n",
              "      <td>89.918</td>\n",
              "      <td>-0.040</td>\n",
              "      <td>-0.038</td>\n",
              "    </tr>\n",
              "    <tr>\n",
              "      <th>2005-04-01</th>\n",
              "      <td>28.301</td>\n",
              "      <td>109.589</td>\n",
              "      <td>0.219</td>\n",
              "      <td>-0.037</td>\n",
              "    </tr>\n",
              "    <tr>\n",
              "      <th>2005-05-01</th>\n",
              "      <td>30.390</td>\n",
              "      <td>138.117</td>\n",
              "      <td>0.260</td>\n",
              "      <td>0.074</td>\n",
              "    </tr>\n",
              "    <tr>\n",
              "      <th>2005-06-01</th>\n",
              "      <td>30.778</td>\n",
              "      <td>146.526</td>\n",
              "      <td>0.061</td>\n",
              "      <td>0.013</td>\n",
              "    </tr>\n",
              "    <tr>\n",
              "      <th>...</th>\n",
              "      <td>...</td>\n",
              "      <td>...</td>\n",
              "      <td>...</td>\n",
              "      <td>...</td>\n",
              "    </tr>\n",
              "    <tr>\n",
              "      <th>2014-08-01</th>\n",
              "      <td>87.975</td>\n",
              "      <td>570.035</td>\n",
              "      <td>0.000</td>\n",
              "      <td>0.089</td>\n",
              "    </tr>\n",
              "    <tr>\n",
              "      <th>2014-09-01</th>\n",
              "      <td>79.877</td>\n",
              "      <td>575.779</td>\n",
              "      <td>0.010</td>\n",
              "      <td>-0.092</td>\n",
              "    </tr>\n",
              "    <tr>\n",
              "      <th>2014-10-01</th>\n",
              "      <td>81.797</td>\n",
              "      <td>557.549</td>\n",
              "      <td>-0.032</td>\n",
              "      <td>0.024</td>\n",
              "    </tr>\n",
              "    <tr>\n",
              "      <th>2014-11-01</th>\n",
              "      <td>81.762</td>\n",
              "      <td>540.346</td>\n",
              "      <td>-0.031</td>\n",
              "      <td>-0.000</td>\n",
              "    </tr>\n",
              "    <tr>\n",
              "      <th>2014-12-01</th>\n",
              "      <td>74.390</td>\n",
              "      <td>524.959</td>\n",
              "      <td>-0.028</td>\n",
              "      <td>-0.090</td>\n",
              "    </tr>\n",
              "  </tbody>\n",
              "</table>\n",
              "<p>119 rows × 4 columns</p>\n",
              "</div>\n",
              "      <button class=\"colab-df-convert\" onclick=\"convertToInteractive('df-517e71c7-0f07-4fdf-a141-ddeece47aa3e')\"\n",
              "              title=\"Convert this dataframe to an interactive table.\"\n",
              "              style=\"display:none;\">\n",
              "        \n",
              "  <svg xmlns=\"http://www.w3.org/2000/svg\" height=\"24px\"viewBox=\"0 0 24 24\"\n",
              "       width=\"24px\">\n",
              "    <path d=\"M0 0h24v24H0V0z\" fill=\"none\"/>\n",
              "    <path d=\"M18.56 5.44l.94 2.06.94-2.06 2.06-.94-2.06-.94-.94-2.06-.94 2.06-2.06.94zm-11 1L8.5 8.5l.94-2.06 2.06-.94-2.06-.94L8.5 2.5l-.94 2.06-2.06.94zm10 10l.94 2.06.94-2.06 2.06-.94-2.06-.94-.94-2.06-.94 2.06-2.06.94z\"/><path d=\"M17.41 7.96l-1.37-1.37c-.4-.4-.92-.59-1.43-.59-.52 0-1.04.2-1.43.59L10.3 9.45l-7.72 7.72c-.78.78-.78 2.05 0 2.83L4 21.41c.39.39.9.59 1.41.59.51 0 1.02-.2 1.41-.59l7.78-7.78 2.81-2.81c.8-.78.8-2.07 0-2.86zM5.41 20L4 18.59l7.72-7.72 1.47 1.35L5.41 20z\"/>\n",
              "  </svg>\n",
              "      </button>\n",
              "      \n",
              "  <style>\n",
              "    .colab-df-container {\n",
              "      display:flex;\n",
              "      flex-wrap:wrap;\n",
              "      gap: 12px;\n",
              "    }\n",
              "\n",
              "    .colab-df-convert {\n",
              "      background-color: #E8F0FE;\n",
              "      border: none;\n",
              "      border-radius: 50%;\n",
              "      cursor: pointer;\n",
              "      display: none;\n",
              "      fill: #1967D2;\n",
              "      height: 32px;\n",
              "      padding: 0 0 0 0;\n",
              "      width: 32px;\n",
              "    }\n",
              "\n",
              "    .colab-df-convert:hover {\n",
              "      background-color: #E2EBFA;\n",
              "      box-shadow: 0px 1px 2px rgba(60, 64, 67, 0.3), 0px 1px 3px 1px rgba(60, 64, 67, 0.15);\n",
              "      fill: #174EA6;\n",
              "    }\n",
              "\n",
              "    [theme=dark] .colab-df-convert {\n",
              "      background-color: #3B4455;\n",
              "      fill: #D2E3FC;\n",
              "    }\n",
              "\n",
              "    [theme=dark] .colab-df-convert:hover {\n",
              "      background-color: #434B5C;\n",
              "      box-shadow: 0px 1px 3px 1px rgba(0, 0, 0, 0.15);\n",
              "      filter: drop-shadow(0px 1px 2px rgba(0, 0, 0, 0.3));\n",
              "      fill: #FFFFFF;\n",
              "    }\n",
              "  </style>\n",
              "\n",
              "      <script>\n",
              "        const buttonEl =\n",
              "          document.querySelector('#df-517e71c7-0f07-4fdf-a141-ddeece47aa3e button.colab-df-convert');\n",
              "        buttonEl.style.display =\n",
              "          google.colab.kernel.accessAllowed ? 'block' : 'none';\n",
              "\n",
              "        async function convertToInteractive(key) {\n",
              "          const element = document.querySelector('#df-517e71c7-0f07-4fdf-a141-ddeece47aa3e');\n",
              "          const dataTable =\n",
              "            await google.colab.kernel.invokeFunction('convertToInteractive',\n",
              "                                                     [key], {});\n",
              "          if (!dataTable) return;\n",
              "\n",
              "          const docLinkHtml = 'Like what you see? Visit the ' +\n",
              "            '<a target=\"_blank\" href=https://colab.research.google.com/notebooks/data_table.ipynb>data table notebook</a>'\n",
              "            + ' to learn more about interactive tables.';\n",
              "          element.innerHTML = '';\n",
              "          dataTable['output_type'] = 'display_data';\n",
              "          await google.colab.output.renderOutput(dataTable, element);\n",
              "          const docLink = document.createElement('div');\n",
              "          docLink.innerHTML = docLinkHtml;\n",
              "          element.appendChild(docLink);\n",
              "        }\n",
              "      </script>\n",
              "    </div>\n",
              "  </div>\n",
              "  "
            ],
            "text/plain": [
              "              CAT    GOOG  GOOG_Ret  CAT_Ret\n",
              "Date                                        \n",
              "2005-02-01 30.551  93.644    -0.039    0.071\n",
              "2005-03-01 29.391  89.918    -0.040   -0.038\n",
              "2005-04-01 28.301 109.589     0.219   -0.037\n",
              "2005-05-01 30.390 138.117     0.260    0.074\n",
              "2005-06-01 30.778 146.526     0.061    0.013\n",
              "...           ...     ...       ...      ...\n",
              "2014-08-01 87.975 570.035     0.000    0.089\n",
              "2014-09-01 79.877 575.779     0.010   -0.092\n",
              "2014-10-01 81.797 557.549    -0.032    0.024\n",
              "2014-11-01 81.762 540.346    -0.031   -0.000\n",
              "2014-12-01 74.390 524.959    -0.028   -0.090\n",
              "\n",
              "[119 rows x 4 columns]"
            ]
          },
          "metadata": {},
          "execution_count": 33
        }
      ]
    },
    {
      "cell_type": "code",
      "source": [
        "df = df[['GOOG_Ret', 'CAT_Ret']].dropna()\n",
        "df.corr()"
      ],
      "metadata": {
        "colab": {
          "base_uri": "https://localhost:8080/",
          "height": 112
        },
        "id": "wJ-SDG0VKlmU",
        "outputId": "b8989fc0-659f-4f9c-b40f-537f0110214e"
      },
      "execution_count": 34,
      "outputs": [
        {
          "output_type": "execute_result",
          "data": {
            "text/html": [
              "\n",
              "  <div id=\"df-5be6e0fa-0046-49e4-be61-bdd301f1ebff\">\n",
              "    <div class=\"colab-df-container\">\n",
              "      <div>\n",
              "<style scoped>\n",
              "    .dataframe tbody tr th:only-of-type {\n",
              "        vertical-align: middle;\n",
              "    }\n",
              "\n",
              "    .dataframe tbody tr th {\n",
              "        vertical-align: top;\n",
              "    }\n",
              "\n",
              "    .dataframe thead th {\n",
              "        text-align: right;\n",
              "    }\n",
              "</style>\n",
              "<table border=\"1\" class=\"dataframe\">\n",
              "  <thead>\n",
              "    <tr style=\"text-align: right;\">\n",
              "      <th></th>\n",
              "      <th>GOOG_Ret</th>\n",
              "      <th>CAT_Ret</th>\n",
              "    </tr>\n",
              "  </thead>\n",
              "  <tbody>\n",
              "    <tr>\n",
              "      <th>GOOG_Ret</th>\n",
              "      <td>1.000</td>\n",
              "      <td>0.196</td>\n",
              "    </tr>\n",
              "    <tr>\n",
              "      <th>CAT_Ret</th>\n",
              "      <td>0.196</td>\n",
              "      <td>1.000</td>\n",
              "    </tr>\n",
              "  </tbody>\n",
              "</table>\n",
              "</div>\n",
              "      <button class=\"colab-df-convert\" onclick=\"convertToInteractive('df-5be6e0fa-0046-49e4-be61-bdd301f1ebff')\"\n",
              "              title=\"Convert this dataframe to an interactive table.\"\n",
              "              style=\"display:none;\">\n",
              "        \n",
              "  <svg xmlns=\"http://www.w3.org/2000/svg\" height=\"24px\"viewBox=\"0 0 24 24\"\n",
              "       width=\"24px\">\n",
              "    <path d=\"M0 0h24v24H0V0z\" fill=\"none\"/>\n",
              "    <path d=\"M18.56 5.44l.94 2.06.94-2.06 2.06-.94-2.06-.94-.94-2.06-.94 2.06-2.06.94zm-11 1L8.5 8.5l.94-2.06 2.06-.94-2.06-.94L8.5 2.5l-.94 2.06-2.06.94zm10 10l.94 2.06.94-2.06 2.06-.94-2.06-.94-.94-2.06-.94 2.06-2.06.94z\"/><path d=\"M17.41 7.96l-1.37-1.37c-.4-.4-.92-.59-1.43-.59-.52 0-1.04.2-1.43.59L10.3 9.45l-7.72 7.72c-.78.78-.78 2.05 0 2.83L4 21.41c.39.39.9.59 1.41.59.51 0 1.02-.2 1.41-.59l7.78-7.78 2.81-2.81c.8-.78.8-2.07 0-2.86zM5.41 20L4 18.59l7.72-7.72 1.47 1.35L5.41 20z\"/>\n",
              "  </svg>\n",
              "      </button>\n",
              "      \n",
              "  <style>\n",
              "    .colab-df-container {\n",
              "      display:flex;\n",
              "      flex-wrap:wrap;\n",
              "      gap: 12px;\n",
              "    }\n",
              "\n",
              "    .colab-df-convert {\n",
              "      background-color: #E8F0FE;\n",
              "      border: none;\n",
              "      border-radius: 50%;\n",
              "      cursor: pointer;\n",
              "      display: none;\n",
              "      fill: #1967D2;\n",
              "      height: 32px;\n",
              "      padding: 0 0 0 0;\n",
              "      width: 32px;\n",
              "    }\n",
              "\n",
              "    .colab-df-convert:hover {\n",
              "      background-color: #E2EBFA;\n",
              "      box-shadow: 0px 1px 2px rgba(60, 64, 67, 0.3), 0px 1px 3px 1px rgba(60, 64, 67, 0.15);\n",
              "      fill: #174EA6;\n",
              "    }\n",
              "\n",
              "    [theme=dark] .colab-df-convert {\n",
              "      background-color: #3B4455;\n",
              "      fill: #D2E3FC;\n",
              "    }\n",
              "\n",
              "    [theme=dark] .colab-df-convert:hover {\n",
              "      background-color: #434B5C;\n",
              "      box-shadow: 0px 1px 3px 1px rgba(0, 0, 0, 0.15);\n",
              "      filter: drop-shadow(0px 1px 2px rgba(0, 0, 0, 0.3));\n",
              "      fill: #FFFFFF;\n",
              "    }\n",
              "  </style>\n",
              "\n",
              "      <script>\n",
              "        const buttonEl =\n",
              "          document.querySelector('#df-5be6e0fa-0046-49e4-be61-bdd301f1ebff button.colab-df-convert');\n",
              "        buttonEl.style.display =\n",
              "          google.colab.kernel.accessAllowed ? 'block' : 'none';\n",
              "\n",
              "        async function convertToInteractive(key) {\n",
              "          const element = document.querySelector('#df-5be6e0fa-0046-49e4-be61-bdd301f1ebff');\n",
              "          const dataTable =\n",
              "            await google.colab.kernel.invokeFunction('convertToInteractive',\n",
              "                                                     [key], {});\n",
              "          if (!dataTable) return;\n",
              "\n",
              "          const docLinkHtml = 'Like what you see? Visit the ' +\n",
              "            '<a target=\"_blank\" href=https://colab.research.google.com/notebooks/data_table.ipynb>data table notebook</a>'\n",
              "            + ' to learn more about interactive tables.';\n",
              "          element.innerHTML = '';\n",
              "          dataTable['output_type'] = 'display_data';\n",
              "          await google.colab.output.renderOutput(dataTable, element);\n",
              "          const docLink = document.createElement('div');\n",
              "          docLink.innerHTML = docLinkHtml;\n",
              "          element.appendChild(docLink);\n",
              "        }\n",
              "      </script>\n",
              "    </div>\n",
              "  </div>\n",
              "  "
            ],
            "text/plain": [
              "          GOOG_Ret  CAT_Ret\n",
              "GOOG_Ret     1.000    0.196\n",
              "CAT_Ret      0.196    1.000"
            ]
          },
          "metadata": {},
          "execution_count": 34
        }
      ]
    },
    {
      "cell_type": "markdown",
      "source": [
        "# **Standard Deviation**"
      ],
      "metadata": {
        "id": "cqC5oqWHMGT7"
      }
    },
    {
      "cell_type": "code",
      "source": [
        "prices = df['CAT_Ret'][:5]"
      ],
      "metadata": {
        "id": "brrnM4wxMMsL"
      },
      "execution_count": 38,
      "outputs": []
    },
    {
      "cell_type": "code",
      "source": [
        "prices"
      ],
      "metadata": {
        "colab": {
          "base_uri": "https://localhost:8080/"
        },
        "id": "Z-dPXej7Mhvd",
        "outputId": "996905d6-41f2-4ca8-c8cb-fee9ed8e32d7"
      },
      "execution_count": 39,
      "outputs": [
        {
          "output_type": "execute_result",
          "data": {
            "text/plain": [
              "Date\n",
              "2005-02-01    0.071\n",
              "2005-03-01   -0.038\n",
              "2005-04-01   -0.037\n",
              "2005-05-01    0.074\n",
              "2005-06-01    0.013\n",
              "Name: CAT_Ret, dtype: float64"
            ]
          },
          "metadata": {},
          "execution_count": 39
        }
      ]
    },
    {
      "cell_type": "code",
      "source": [
        "prices.std()"
      ],
      "metadata": {
        "colab": {
          "base_uri": "https://localhost:8080/"
        },
        "id": "9PVo_ymmNEch",
        "outputId": "e3ccb673-2474-4610-d0c3-9dd9e72781b7"
      },
      "execution_count": 40,
      "outputs": [
        {
          "output_type": "execute_result",
          "data": {
            "text/plain": [
              "0.055135721101252255"
            ]
          },
          "metadata": {},
          "execution_count": 40
        }
      ]
    },
    {
      "cell_type": "markdown",
      "source": [
        "STD: step 1"
      ],
      "metadata": {
        "id": "Q12kP80vM6Uz"
      }
    },
    {
      "cell_type": "code",
      "source": [
        "prices_sum = sum(prices)"
      ],
      "metadata": {
        "id": "NBVTIL3TM2hp"
      },
      "execution_count": 41,
      "outputs": []
    },
    {
      "cell_type": "code",
      "source": [
        "prices_sum"
      ],
      "metadata": {
        "colab": {
          "base_uri": "https://localhost:8080/"
        },
        "id": "ON92UVFiNHvJ",
        "outputId": "27b41f0c-41bc-43cb-bc57-92827b563e51"
      },
      "execution_count": 42,
      "outputs": [
        {
          "output_type": "execute_result",
          "data": {
            "text/plain": [
              "0.0829903851762307"
            ]
          },
          "metadata": {},
          "execution_count": 42
        }
      ]
    },
    {
      "cell_type": "code",
      "source": [
        "mean = prices_sum / 5"
      ],
      "metadata": {
        "id": "3TKN3s8eNNj5"
      },
      "execution_count": 43,
      "outputs": []
    },
    {
      "cell_type": "code",
      "source": [
        "mean"
      ],
      "metadata": {
        "colab": {
          "base_uri": "https://localhost:8080/"
        },
        "id": "bTiM_HVcNReR",
        "outputId": "637059b7-9f76-459b-eb9f-554f7856f1a6"
      },
      "execution_count": 44,
      "outputs": [
        {
          "output_type": "execute_result",
          "data": {
            "text/plain": [
              "0.01659807703524614"
            ]
          },
          "metadata": {},
          "execution_count": 44
        }
      ]
    },
    {
      "cell_type": "markdown",
      "source": [
        "Std: step 2"
      ],
      "metadata": {
        "id": "RGXFmMbjNUFp"
      }
    },
    {
      "cell_type": "code",
      "source": [
        "deviation_from_the_mean = prices - mean "
      ],
      "metadata": {
        "id": "Z9bcOMhWNWYY"
      },
      "execution_count": 45,
      "outputs": []
    },
    {
      "cell_type": "code",
      "source": [
        "deviation_from_the_mean"
      ],
      "metadata": {
        "colab": {
          "base_uri": "https://localhost:8080/"
        },
        "id": "mSCmyD0DNhza",
        "outputId": "f578d4cc-8b3a-468f-b7b6-057c72cc46c3"
      },
      "execution_count": 46,
      "outputs": [
        {
          "output_type": "execute_result",
          "data": {
            "text/plain": [
              "Date\n",
              "2005-02-01    0.055\n",
              "2005-03-01   -0.055\n",
              "2005-04-01   -0.054\n",
              "2005-05-01    0.057\n",
              "2005-06-01   -0.004\n",
              "Name: CAT_Ret, dtype: float64"
            ]
          },
          "metadata": {},
          "execution_count": 46
        }
      ]
    },
    {
      "cell_type": "markdown",
      "source": [
        "STD: step 3"
      ],
      "metadata": {
        "id": "p8EftOirNmwP"
      }
    },
    {
      "cell_type": "code",
      "source": [
        "deviation_squares = deviation_from_the_mean ** 2"
      ],
      "metadata": {
        "id": "OVo1vg8KNoyi"
      },
      "execution_count": 47,
      "outputs": []
    },
    {
      "cell_type": "code",
      "source": [
        "deviation_squares"
      ],
      "metadata": {
        "colab": {
          "base_uri": "https://localhost:8080/"
        },
        "id": "tp5w9wx0Nu2T",
        "outputId": "91fe91cf-b2bd-49bf-f528-1d218b069bfd"
      },
      "execution_count": 48,
      "outputs": [
        {
          "output_type": "execute_result",
          "data": {
            "text/plain": [
              "Date\n",
              "2005-02-01   0.003\n",
              "2005-03-01   0.003\n",
              "2005-04-01   0.003\n",
              "2005-05-01   0.003\n",
              "2005-06-01   0.000\n",
              "Name: CAT_Ret, dtype: float64"
            ]
          },
          "metadata": {},
          "execution_count": 48
        }
      ]
    },
    {
      "cell_type": "markdown",
      "source": [
        "STD: step 4"
      ],
      "metadata": {
        "id": "EDXLS093N5Gi"
      }
    },
    {
      "cell_type": "code",
      "source": [
        "sum_of_squares = sum(deviation_squares)"
      ],
      "metadata": {
        "id": "8RjHbuezN7Zp"
      },
      "execution_count": 49,
      "outputs": []
    },
    {
      "cell_type": "code",
      "source": [
        "sum_of_squares"
      ],
      "metadata": {
        "colab": {
          "base_uri": "https://localhost:8080/"
        },
        "id": "q5ZAJuG7OEj3",
        "outputId": "298bd9fc-6760-4b67-c6e3-6ea42b7131c6"
      },
      "execution_count": 50,
      "outputs": [
        {
          "output_type": "execute_result",
          "data": {
            "text/plain": [
              "0.012159790965420294"
            ]
          },
          "metadata": {},
          "execution_count": 50
        }
      ]
    },
    {
      "cell_type": "markdown",
      "source": [
        "STD: step 5"
      ],
      "metadata": {
        "id": "PAANNHDOOTlJ"
      }
    },
    {
      "cell_type": "code",
      "source": [
        "variance =  sum_of_squares / (5 - 1)"
      ],
      "metadata": {
        "id": "5Hdm6ajoOLx5"
      },
      "execution_count": 51,
      "outputs": []
    },
    {
      "cell_type": "code",
      "source": [
        "variance"
      ],
      "metadata": {
        "colab": {
          "base_uri": "https://localhost:8080/"
        },
        "id": "U8EI546-OSI3",
        "outputId": "987e539b-9ca5-4588-e7f6-724d3270e740"
      },
      "execution_count": 52,
      "outputs": [
        {
          "output_type": "execute_result",
          "data": {
            "text/plain": [
              "0.0030399477413550736"
            ]
          },
          "metadata": {},
          "execution_count": 52
        }
      ]
    },
    {
      "cell_type": "markdown",
      "source": [
        "STD: step 6"
      ],
      "metadata": {
        "id": "aP4jH0dZPLFg"
      }
    },
    {
      "cell_type": "code",
      "source": [
        "stdv = np.sqrt(variance)"
      ],
      "metadata": {
        "id": "KKksBqUJOYC_"
      },
      "execution_count": 55,
      "outputs": []
    },
    {
      "cell_type": "code",
      "source": [
        "stdv"
      ],
      "metadata": {
        "colab": {
          "base_uri": "https://localhost:8080/"
        },
        "id": "W8RembnkOfiD",
        "outputId": "322fab98-f5b1-4cb9-da60-2056391f594d"
      },
      "execution_count": 56,
      "outputs": [
        {
          "output_type": "execute_result",
          "data": {
            "text/plain": [
              "0.055135721101252255"
            ]
          },
          "metadata": {},
          "execution_count": 56
        }
      ]
    },
    {
      "cell_type": "markdown",
      "source": [
        "# **Create Stat-Board**"
      ],
      "metadata": {
        "id": "g_5gsSIMPmvh"
      }
    },
    {
      "cell_type": "code",
      "source": [
        "def stat_board(symbols):\n",
        "  columns = [\n",
        "      'annualized_mean_return',\n",
        "      'annualized_std',\n",
        "      'sharp_ratio'\n",
        "  ]\n",
        "  board = pd.DataFrame(index=columns)\n",
        "  for symbol in symbols:\n",
        "    board[symbol] = [\n",
        "        df[f'{symbol}_Ret'].mean() * 12,\n",
        "        df[f'{symbol}_Ret'].std() * np.sqrt(12),\n",
        "        (df[f'{symbol}_Ret'].mean() * 12) / (df[f'{symbol}_Ret'].std() * np.sqrt(12))\n",
        "        ]\n",
        "\n",
        "\n",
        "  return board\n"
      ],
      "metadata": {
        "id": "QTFW3H7YP0N2"
      },
      "execution_count": 71,
      "outputs": []
    },
    {
      "cell_type": "code",
      "source": [
        "stat_board(symbols)"
      ],
      "metadata": {
        "colab": {
          "base_uri": "https://localhost:8080/",
          "height": 143
        },
        "id": "bfOa6EMqQ06t",
        "outputId": "0c49082d-dccc-44e6-8456-46c8eb8d6869"
      },
      "execution_count": 75,
      "outputs": [
        {
          "output_type": "execute_result",
          "data": {
            "text/html": [
              "\n",
              "  <div id=\"df-243c49b1-819d-458f-a093-ec93c93333fe\">\n",
              "    <div class=\"colab-df-container\">\n",
              "      <div>\n",
              "<style scoped>\n",
              "    .dataframe tbody tr th:only-of-type {\n",
              "        vertical-align: middle;\n",
              "    }\n",
              "\n",
              "    .dataframe tbody tr th {\n",
              "        vertical-align: top;\n",
              "    }\n",
              "\n",
              "    .dataframe thead th {\n",
              "        text-align: right;\n",
              "    }\n",
              "</style>\n",
              "<table border=\"1\" class=\"dataframe\">\n",
              "  <thead>\n",
              "    <tr style=\"text-align: right;\">\n",
              "      <th></th>\n",
              "      <th>GOOG</th>\n",
              "      <th>CAT</th>\n",
              "    </tr>\n",
              "  </thead>\n",
              "  <tbody>\n",
              "    <tr>\n",
              "      <th>annualized_mean_return</th>\n",
              "      <td>0.220</td>\n",
              "      <td>0.155</td>\n",
              "    </tr>\n",
              "    <tr>\n",
              "      <th>annualized_std</th>\n",
              "      <td>0.319</td>\n",
              "      <td>0.337</td>\n",
              "    </tr>\n",
              "    <tr>\n",
              "      <th>sharp_ratio</th>\n",
              "      <td>0.690</td>\n",
              "      <td>0.460</td>\n",
              "    </tr>\n",
              "  </tbody>\n",
              "</table>\n",
              "</div>\n",
              "      <button class=\"colab-df-convert\" onclick=\"convertToInteractive('df-243c49b1-819d-458f-a093-ec93c93333fe')\"\n",
              "              title=\"Convert this dataframe to an interactive table.\"\n",
              "              style=\"display:none;\">\n",
              "        \n",
              "  <svg xmlns=\"http://www.w3.org/2000/svg\" height=\"24px\"viewBox=\"0 0 24 24\"\n",
              "       width=\"24px\">\n",
              "    <path d=\"M0 0h24v24H0V0z\" fill=\"none\"/>\n",
              "    <path d=\"M18.56 5.44l.94 2.06.94-2.06 2.06-.94-2.06-.94-.94-2.06-.94 2.06-2.06.94zm-11 1L8.5 8.5l.94-2.06 2.06-.94-2.06-.94L8.5 2.5l-.94 2.06-2.06.94zm10 10l.94 2.06.94-2.06 2.06-.94-2.06-.94-.94-2.06-.94 2.06-2.06.94z\"/><path d=\"M17.41 7.96l-1.37-1.37c-.4-.4-.92-.59-1.43-.59-.52 0-1.04.2-1.43.59L10.3 9.45l-7.72 7.72c-.78.78-.78 2.05 0 2.83L4 21.41c.39.39.9.59 1.41.59.51 0 1.02-.2 1.41-.59l7.78-7.78 2.81-2.81c.8-.78.8-2.07 0-2.86zM5.41 20L4 18.59l7.72-7.72 1.47 1.35L5.41 20z\"/>\n",
              "  </svg>\n",
              "      </button>\n",
              "      \n",
              "  <style>\n",
              "    .colab-df-container {\n",
              "      display:flex;\n",
              "      flex-wrap:wrap;\n",
              "      gap: 12px;\n",
              "    }\n",
              "\n",
              "    .colab-df-convert {\n",
              "      background-color: #E8F0FE;\n",
              "      border: none;\n",
              "      border-radius: 50%;\n",
              "      cursor: pointer;\n",
              "      display: none;\n",
              "      fill: #1967D2;\n",
              "      height: 32px;\n",
              "      padding: 0 0 0 0;\n",
              "      width: 32px;\n",
              "    }\n",
              "\n",
              "    .colab-df-convert:hover {\n",
              "      background-color: #E2EBFA;\n",
              "      box-shadow: 0px 1px 2px rgba(60, 64, 67, 0.3), 0px 1px 3px 1px rgba(60, 64, 67, 0.15);\n",
              "      fill: #174EA6;\n",
              "    }\n",
              "\n",
              "    [theme=dark] .colab-df-convert {\n",
              "      background-color: #3B4455;\n",
              "      fill: #D2E3FC;\n",
              "    }\n",
              "\n",
              "    [theme=dark] .colab-df-convert:hover {\n",
              "      background-color: #434B5C;\n",
              "      box-shadow: 0px 1px 3px 1px rgba(0, 0, 0, 0.15);\n",
              "      filter: drop-shadow(0px 1px 2px rgba(0, 0, 0, 0.3));\n",
              "      fill: #FFFFFF;\n",
              "    }\n",
              "  </style>\n",
              "\n",
              "      <script>\n",
              "        const buttonEl =\n",
              "          document.querySelector('#df-243c49b1-819d-458f-a093-ec93c93333fe button.colab-df-convert');\n",
              "        buttonEl.style.display =\n",
              "          google.colab.kernel.accessAllowed ? 'block' : 'none';\n",
              "\n",
              "        async function convertToInteractive(key) {\n",
              "          const element = document.querySelector('#df-243c49b1-819d-458f-a093-ec93c93333fe');\n",
              "          const dataTable =\n",
              "            await google.colab.kernel.invokeFunction('convertToInteractive',\n",
              "                                                     [key], {});\n",
              "          if (!dataTable) return;\n",
              "\n",
              "          const docLinkHtml = 'Like what you see? Visit the ' +\n",
              "            '<a target=\"_blank\" href=https://colab.research.google.com/notebooks/data_table.ipynb>data table notebook</a>'\n",
              "            + ' to learn more about interactive tables.';\n",
              "          element.innerHTML = '';\n",
              "          dataTable['output_type'] = 'display_data';\n",
              "          await google.colab.output.renderOutput(dataTable, element);\n",
              "          const docLink = document.createElement('div');\n",
              "          docLink.innerHTML = docLinkHtml;\n",
              "          element.appendChild(docLink);\n",
              "        }\n",
              "      </script>\n",
              "    </div>\n",
              "  </div>\n",
              "  "
            ],
            "text/plain": [
              "                        GOOG   CAT\n",
              "annualized_mean_return 0.220 0.155\n",
              "annualized_std         0.319 0.337\n",
              "sharp_ratio            0.690 0.460"
            ]
          },
          "metadata": {},
          "execution_count": 75
        }
      ]
    },
    {
      "cell_type": "code",
      "source": [
        "board = stat_board(symbols)"
      ],
      "metadata": {
        "id": "xq-YxtkzVL2P"
      },
      "execution_count": 76,
      "outputs": []
    },
    {
      "cell_type": "markdown",
      "source": [
        "# **Create Portfolio Board**"
      ],
      "metadata": {
        "id": "pf1ToIMnUIDx"
      }
    },
    {
      "cell_type": "code",
      "source": [
        "w = [0.5, 0.5]\n",
        "mean = board[symbols[0]].annualized_mean_return * w[0] + board[symbols[1]].annualized_mean_return * w[1]\n",
        "cov = df[f'{symbols[0]}_Ret'].cov(df[f'{symbols[1]}_Ret'])\n",
        "std = np.sqrt(\n",
        "    w[0]**2 *board[symbols[0]].annualized_std**2 +\n",
        "    w[1]**2 *board[symbols[1]].annualized_std**2 +\n",
        "    2 * w[0] * w[1] * cov\n",
        ")\n",
        "sr = mean / std \n",
        "sr\n",
        "\n",
        "def portfolio_board(symbols):\n",
        "  print('Portfolio Weights: \\n', w)\n",
        "  columns = [\n",
        "      'portfolio_annualized_mean',\n",
        "      'portfolio_annualized_std',\n",
        "      'portfolio_sharp_ratio'\n",
        "  ]\n",
        "  portfolio_board = pd.DataFrame(index=columns) \n",
        "  portfolio_board['Portfolio Stat'] = [\n",
        "      mean,\n",
        "      std,\n",
        "      sr\n",
        "  ]\n",
        "  print(portfolio_board)"
      ],
      "metadata": {
        "id": "zQA8dkXcUMvw"
      },
      "execution_count": 86,
      "outputs": []
    },
    {
      "cell_type": "code",
      "source": [
        "std"
      ],
      "metadata": {
        "colab": {
          "base_uri": "https://localhost:8080/"
        },
        "id": "4FCDN8kBXIVu",
        "outputId": "7c273c45-f94d-49ab-dc7a-d116b44c5d34"
      },
      "execution_count": 82,
      "outputs": [
        {
          "output_type": "execute_result",
          "data": {
            "text/plain": [
              "0.2336314969329129"
            ]
          },
          "metadata": {},
          "execution_count": 82
        }
      ]
    },
    {
      "cell_type": "code",
      "source": [
        "portfolio_board(symbols)"
      ],
      "metadata": {
        "colab": {
          "base_uri": "https://localhost:8080/"
        },
        "id": "fk2e-88zYeje",
        "outputId": "499d33bf-bd20-45fe-a9a5-5d0f390ea0ac"
      },
      "execution_count": 87,
      "outputs": [
        {
          "output_type": "stream",
          "name": "stdout",
          "text": [
            "Portfolio Weights: \n",
            " [0.5, 0.5]\n",
            "                           Portfolio Stat\n",
            "portfolio_annualized_mean           0.187\n",
            "portfolio_annualized_std            0.234\n",
            "portfolio_sharp_ratio               0.802\n"
          ]
        }
      ]
    }
  ]
}